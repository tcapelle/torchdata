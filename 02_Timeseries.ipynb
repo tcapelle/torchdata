{
 "cells": [
  {
   "cell_type": "code",
   "execution_count": 1,
   "id": "16d65103-6299-487a-b056-c097bc36ea8e",
   "metadata": {},
   "outputs": [],
   "source": [
    "import pandas as pd\n",
    "import numpy as np\n",
    "\n",
    "from torchdata.datapipes import functional_datapipe\n",
    "import torchdata.datapipes.iter as pipes"
   ]
  },
  {
   "cell_type": "code",
   "execution_count": 2,
   "id": "dbea5035-8d5a-4535-8046-03f00031904e",
   "metadata": {},
   "outputs": [
    {
     "data": {
      "text/html": [
       "<div>\n",
       "<style scoped>\n",
       "    .dataframe tbody tr th:only-of-type {\n",
       "        vertical-align: middle;\n",
       "    }\n",
       "\n",
       "    .dataframe tbody tr th {\n",
       "        vertical-align: top;\n",
       "    }\n",
       "\n",
       "    .dataframe thead th {\n",
       "        text-align: right;\n",
       "    }\n",
       "</style>\n",
       "<table border=\"1\" class=\"dataframe\">\n",
       "  <thead>\n",
       "    <tr style=\"text-align: right;\">\n",
       "      <th></th>\n",
       "      <th>Date</th>\n",
       "      <th>Close/Last</th>\n",
       "      <th>Volume</th>\n",
       "      <th>Open</th>\n",
       "      <th>High</th>\n",
       "      <th>Low</th>\n",
       "    </tr>\n",
       "  </thead>\n",
       "  <tbody>\n",
       "    <tr>\n",
       "      <th>0</th>\n",
       "      <td>02/28/2020</td>\n",
       "      <td>$273.36</td>\n",
       "      <td>106721200</td>\n",
       "      <td>$257.26</td>\n",
       "      <td>$278.41</td>\n",
       "      <td>$256.37</td>\n",
       "    </tr>\n",
       "    <tr>\n",
       "      <th>1</th>\n",
       "      <td>02/27/2020</td>\n",
       "      <td>$273.52</td>\n",
       "      <td>80151380</td>\n",
       "      <td>$281.1</td>\n",
       "      <td>$286</td>\n",
       "      <td>$272.96</td>\n",
       "    </tr>\n",
       "    <tr>\n",
       "      <th>2</th>\n",
       "      <td>02/26/2020</td>\n",
       "      <td>$292.65</td>\n",
       "      <td>49678430</td>\n",
       "      <td>$286.53</td>\n",
       "      <td>$297.88</td>\n",
       "      <td>$286.5</td>\n",
       "    </tr>\n",
       "    <tr>\n",
       "      <th>3</th>\n",
       "      <td>02/25/2020</td>\n",
       "      <td>$288.08</td>\n",
       "      <td>57668360</td>\n",
       "      <td>$300.95</td>\n",
       "      <td>$302.53</td>\n",
       "      <td>$286.13</td>\n",
       "    </tr>\n",
       "    <tr>\n",
       "      <th>4</th>\n",
       "      <td>02/24/2020</td>\n",
       "      <td>$298.18</td>\n",
       "      <td>55548830</td>\n",
       "      <td>$297.26</td>\n",
       "      <td>$304.18</td>\n",
       "      <td>$289.23</td>\n",
       "    </tr>\n",
       "  </tbody>\n",
       "</table>\n",
       "</div>"
      ],
      "text/plain": [
       "         Date  Close/Last     Volume      Open      High       Low\n",
       "0  02/28/2020     $273.36  106721200   $257.26   $278.41   $256.37\n",
       "1  02/27/2020     $273.52   80151380    $281.1      $286   $272.96\n",
       "2  02/26/2020     $292.65   49678430   $286.53   $297.88    $286.5\n",
       "3  02/25/2020     $288.08   57668360   $300.95   $302.53   $286.13\n",
       "4  02/24/2020     $298.18   55548830   $297.26   $304.18   $289.23"
      ]
     },
     "execution_count": 2,
     "metadata": {},
     "output_type": "execute_result"
    }
   ],
   "source": [
    "df = pd.read_csv(\"HistoricalQuotes.csv\")\n",
    "df.head()"
   ]
  },
  {
   "cell_type": "code",
   "execution_count": 3,
   "id": "1be11825-e421-4b91-8be0-b1bd6b018c3f",
   "metadata": {},
   "outputs": [],
   "source": [
    "datapipe = pipes.IterableWrapper([\"HistoricalQuotes.csv\"])\n",
    "csv = pipes.FileOpener(datapipe, mode='rt').parse_csv(delimiter=',', skip_lines=1)"
   ]
  },
  {
   "cell_type": "code",
   "execution_count": 4,
   "id": "58cfa2f3-8d61-40b0-ac2b-f41fd9acd23c",
   "metadata": {},
   "outputs": [
    {
     "data": {
      "text/plain": [
       "['02/28/2020', ' $273.36', ' 106721200', ' $257.26', ' $278.41', ' $256.37']"
      ]
     },
     "execution_count": 4,
     "metadata": {},
     "output_type": "execute_result"
    }
   ],
   "source": [
    "next(iter(csv))"
   ]
  },
  {
   "cell_type": "code",
   "execution_count": 5,
   "id": "2cc6defa-b0b7-41cd-ac97-4f3d0366a13d",
   "metadata": {},
   "outputs": [],
   "source": [
    "def parse_price(dp):\n",
    "    date, close, vol, open, high, low = dp\n",
    "    return float(close.strip().replace(\"$\", \"\"))"
   ]
  },
  {
   "cell_type": "code",
   "execution_count": 6,
   "id": "08929d59-39f5-460c-9c83-daff6ccfb951",
   "metadata": {},
   "outputs": [],
   "source": [
    "prices = csv.map(parse_price)"
   ]
  },
  {
   "cell_type": "code",
   "execution_count": 7,
   "id": "a0bdca3a-95fc-4c6b-a17e-b2a54b8c3bbe",
   "metadata": {},
   "outputs": [
    {
     "data": {
      "text/plain": [
       "273.36"
      ]
     },
     "execution_count": 7,
     "metadata": {},
     "output_type": "execute_result"
    }
   ],
   "source": [
    "next(iter(prices))"
   ]
  },
  {
   "cell_type": "code",
   "execution_count": 8,
   "id": "793189b1-41c7-4d42-bc2e-70b6aaf7cd95",
   "metadata": {},
   "outputs": [],
   "source": [
    "import itertools\n",
    "\n",
    "@functional_datapipe(\"rolling\")\n",
    "class RollingWindow(pipes.IterDataPipe):\n",
    "    def __init__(self, source_dp: pipes.IterDataPipe, window_size, step=1) -> None:\n",
    "        super().__init__()\n",
    "        self.source_dp = source_dp\n",
    "        self.window_size = window_size\n",
    "        self.step = step\n",
    "    \n",
    "    def __iter__(self):\n",
    "        it = iter(self.source_dp)\n",
    "        cur = []\n",
    "        while True:\n",
    "            try:\n",
    "                while len(cur) < self.window_size:\n",
    "                    cur.append(next(it))\n",
    "                yield np.array(cur)\n",
    "                for _ in range(self.step):\n",
    "                    if cur:\n",
    "                        cur.pop(0)\n",
    "                    else:\n",
    "                        next(it)\n",
    "            except StopIteration:\n",
    "                return"
   ]
  },
  {
   "cell_type": "code",
   "execution_count": 24,
   "id": "b4cbca0d-ee77-4cac-b8bb-7b593152455d",
   "metadata": {},
   "outputs": [
    {
     "data": {
      "text/plain": [
       "[array([273.36, 273.52, 292.65, 288.08, 298.18]),\n",
       " array([292.65, 288.08, 298.18, 313.05, 320.3 ]),\n",
       " array([298.18, 313.05, 320.3 , 323.62, 319.  ]),\n",
       " array([320.3 , 323.62, 319.  , 324.95, 324.87])]"
      ]
     },
     "execution_count": 24,
     "metadata": {},
     "output_type": "execute_result"
    }
   ],
   "source": [
    "dp = RollingWindow(prices, 5, step=2)\n",
    "it = iter(dp)\n",
    "list(itertools.islice(it, 4))"
   ]
  },
  {
   "cell_type": "markdown",
   "id": "fb13503b-b6d4-42d6-8cee-62be7a8c32ba",
   "metadata": {},
   "source": [
    "## Final Pipeline"
   ]
  },
  {
   "cell_type": "code",
   "execution_count": 18,
   "id": "a122be0e-e890-47cf-9688-937f24277bd5",
   "metadata": {},
   "outputs": [],
   "source": [
    "datapipe = pipes.IterableWrapper([\"HistoricalQuotes.csv\"])\n",
    "ds  = (pipes.FileOpener(datapipe, mode='rt').parse_csv(delimiter=',', skip_lines=1)\n",
    "            .map(parse_price)\n",
    "            .rolling(window_size=5, step=1)\n",
    "            .batch(4)\n",
    "      )\n",
    "            "
   ]
  },
  {
   "cell_type": "code",
   "execution_count": 19,
   "id": "778b7147-e3cf-47f3-ba52-52da72b8820d",
   "metadata": {},
   "outputs": [
    {
     "data": {
      "text/plain": [
       "[array([273.36, 273.52, 292.65, 288.08, 298.18]),\n",
       " array([273.52, 292.65, 288.08, 298.18, 313.05]),\n",
       " array([292.65, 288.08, 298.18, 313.05, 320.3 ]),\n",
       " array([288.08, 298.18, 313.05, 320.3 , 323.62])]"
      ]
     },
     "execution_count": 19,
     "metadata": {},
     "output_type": "execute_result"
    }
   ],
   "source": [
    "next(iter(ds))"
   ]
  }
 ],
 "metadata": {
  "kernelspec": {
   "display_name": "Python 3 (ipykernel)",
   "language": "python",
   "name": "python3"
  },
  "language_info": {
   "codemirror_mode": {
    "name": "ipython",
    "version": 3
   },
   "file_extension": ".py",
   "mimetype": "text/x-python",
   "name": "python",
   "nbconvert_exporter": "python",
   "pygments_lexer": "ipython3",
   "version": "3.9.7"
  }
 },
 "nbformat": 4,
 "nbformat_minor": 5
}
